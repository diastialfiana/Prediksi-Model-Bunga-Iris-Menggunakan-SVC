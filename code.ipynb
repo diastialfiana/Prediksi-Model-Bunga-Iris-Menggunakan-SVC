{
  "cells": [
    {
      "cell_type": "markdown",
      "id": "cfed0531",
      "metadata": {
        "papermill": {
          "duration": 0.033902,
          "end_time": "2022-04-14T11:57:22.785134",
          "exception": false,
          "start_time": "2022-04-14T11:57:22.751232",
          "status": "completed"
        },
        "tags": [],
        "id": "cfed0531"
      },
      "source": [
        "## Iris DataSet"
      ]
    },
    {
      "cell_type": "code",
      "execution_count": 1,
      "id": "bb12a35e",
      "metadata": {
        "execution": {
          "iopub.execute_input": "2022-04-14T11:57:22.872821Z",
          "iopub.status.busy": "2022-04-14T11:57:22.871913Z",
          "iopub.status.idle": "2022-04-14T11:57:23.909045Z",
          "shell.execute_reply": "2022-04-14T11:57:23.908232Z"
        },
        "papermill": {
          "duration": 1.092294,
          "end_time": "2022-04-14T11:57:23.912403",
          "exception": false,
          "start_time": "2022-04-14T11:57:22.820109",
          "status": "completed"
        },
        "tags": [],
        "id": "bb12a35e"
      },
      "outputs": [],
      "source": [
        "import pandas as pd\n",
        "import numpy as np\n",
        "import matplotlib.pyplot as plt\n",
        "import seaborn as sns\n",
        "sns.set_palette('husl')\n",
        "\n",
        "import warnings\n",
        "warnings.filterwarnings('ignore')\n"
      ]
    },
    {
      "cell_type": "code",
      "execution_count": 2,
      "id": "eb1c1d3f",
      "metadata": {
        "execution": {
          "iopub.execute_input": "2022-04-14T11:57:23.977464Z",
          "iopub.status.busy": "2022-04-14T11:57:23.977068Z",
          "iopub.status.idle": "2022-04-14T11:57:24.122025Z",
          "shell.execute_reply": "2022-04-14T11:57:24.121512Z"
        },
        "papermill": {
          "duration": 0.179966,
          "end_time": "2022-04-14T11:57:24.124103",
          "exception": false,
          "start_time": "2022-04-14T11:57:23.944137",
          "status": "completed"
        },
        "tags": [],
        "id": "eb1c1d3f"
      },
      "outputs": [],
      "source": [
        "df = pd.read_csv(\n",
        "    'https://raw.githubusercontent.com/uiuc-cse/data-fa14/gh-pages/data/iris.csv')\n"
      ]
    },
    {
      "cell_type": "code",
      "execution_count": 3,
      "id": "6a1a40ac",
      "metadata": {
        "execution": {
          "iopub.execute_input": "2022-04-14T11:57:24.190764Z",
          "iopub.status.busy": "2022-04-14T11:57:24.190449Z",
          "iopub.status.idle": "2022-04-14T11:57:24.210419Z",
          "shell.execute_reply": "2022-04-14T11:57:24.209623Z"
        },
        "papermill": {
          "duration": 0.054712,
          "end_time": "2022-04-14T11:57:24.212202",
          "exception": false,
          "start_time": "2022-04-14T11:57:24.157490",
          "status": "completed"
        },
        "tags": [],
        "colab": {
          "base_uri": "https://localhost:8080/",
          "height": 206
        },
        "id": "6a1a40ac",
        "outputId": "278ee074-51c0-4dbf-e108-32d40499455b"
      },
      "outputs": [
        {
          "output_type": "execute_result",
          "data": {
            "text/plain": [
              "   sepal_length  sepal_width  petal_length  petal_width species\n",
              "0           5.1          3.5           1.4          0.2  setosa\n",
              "1           4.9          3.0           1.4          0.2  setosa\n",
              "2           4.7          3.2           1.3          0.2  setosa\n",
              "3           4.6          3.1           1.5          0.2  setosa\n",
              "4           5.0          3.6           1.4          0.2  setosa"
            ],
            "text/html": [
              "\n",
              "  <div id=\"df-23ca9256-a961-4f44-9be1-92ed973ee62c\" class=\"colab-df-container\">\n",
              "    <div>\n",
              "<style scoped>\n",
              "    .dataframe tbody tr th:only-of-type {\n",
              "        vertical-align: middle;\n",
              "    }\n",
              "\n",
              "    .dataframe tbody tr th {\n",
              "        vertical-align: top;\n",
              "    }\n",
              "\n",
              "    .dataframe thead th {\n",
              "        text-align: right;\n",
              "    }\n",
              "</style>\n",
              "<table border=\"1\" class=\"dataframe\">\n",
              "  <thead>\n",
              "    <tr style=\"text-align: right;\">\n",
              "      <th></th>\n",
              "      <th>sepal_length</th>\n",
              "      <th>sepal_width</th>\n",
              "      <th>petal_length</th>\n",
              "      <th>petal_width</th>\n",
              "      <th>species</th>\n",
              "    </tr>\n",
              "  </thead>\n",
              "  <tbody>\n",
              "    <tr>\n",
              "      <th>0</th>\n",
              "      <td>5.1</td>\n",
              "      <td>3.5</td>\n",
              "      <td>1.4</td>\n",
              "      <td>0.2</td>\n",
              "      <td>setosa</td>\n",
              "    </tr>\n",
              "    <tr>\n",
              "      <th>1</th>\n",
              "      <td>4.9</td>\n",
              "      <td>3.0</td>\n",
              "      <td>1.4</td>\n",
              "      <td>0.2</td>\n",
              "      <td>setosa</td>\n",
              "    </tr>\n",
              "    <tr>\n",
              "      <th>2</th>\n",
              "      <td>4.7</td>\n",
              "      <td>3.2</td>\n",
              "      <td>1.3</td>\n",
              "      <td>0.2</td>\n",
              "      <td>setosa</td>\n",
              "    </tr>\n",
              "    <tr>\n",
              "      <th>3</th>\n",
              "      <td>4.6</td>\n",
              "      <td>3.1</td>\n",
              "      <td>1.5</td>\n",
              "      <td>0.2</td>\n",
              "      <td>setosa</td>\n",
              "    </tr>\n",
              "    <tr>\n",
              "      <th>4</th>\n",
              "      <td>5.0</td>\n",
              "      <td>3.6</td>\n",
              "      <td>1.4</td>\n",
              "      <td>0.2</td>\n",
              "      <td>setosa</td>\n",
              "    </tr>\n",
              "  </tbody>\n",
              "</table>\n",
              "</div>\n",
              "    <div class=\"colab-df-buttons\">\n",
              "\n",
              "  <div class=\"colab-df-container\">\n",
              "    <button class=\"colab-df-convert\" onclick=\"convertToInteractive('df-23ca9256-a961-4f44-9be1-92ed973ee62c')\"\n",
              "            title=\"Convert this dataframe to an interactive table.\"\n",
              "            style=\"display:none;\">\n",
              "\n",
              "  <svg xmlns=\"http://www.w3.org/2000/svg\" height=\"24px\" viewBox=\"0 -960 960 960\">\n",
              "    <path d=\"M120-120v-720h720v720H120Zm60-500h600v-160H180v160Zm220 220h160v-160H400v160Zm0 220h160v-160H400v160ZM180-400h160v-160H180v160Zm440 0h160v-160H620v160ZM180-180h160v-160H180v160Zm440 0h160v-160H620v160Z\"/>\n",
              "  </svg>\n",
              "    </button>\n",
              "\n",
              "  <style>\n",
              "    .colab-df-container {\n",
              "      display:flex;\n",
              "      gap: 12px;\n",
              "    }\n",
              "\n",
              "    .colab-df-convert {\n",
              "      background-color: #E8F0FE;\n",
              "      border: none;\n",
              "      border-radius: 50%;\n",
              "      cursor: pointer;\n",
              "      display: none;\n",
              "      fill: #1967D2;\n",
              "      height: 32px;\n",
              "      padding: 0 0 0 0;\n",
              "      width: 32px;\n",
              "    }\n",
              "\n",
              "    .colab-df-convert:hover {\n",
              "      background-color: #E2EBFA;\n",
              "      box-shadow: 0px 1px 2px rgba(60, 64, 67, 0.3), 0px 1px 3px 1px rgba(60, 64, 67, 0.15);\n",
              "      fill: #174EA6;\n",
              "    }\n",
              "\n",
              "    .colab-df-buttons div {\n",
              "      margin-bottom: 4px;\n",
              "    }\n",
              "\n",
              "    [theme=dark] .colab-df-convert {\n",
              "      background-color: #3B4455;\n",
              "      fill: #D2E3FC;\n",
              "    }\n",
              "\n",
              "    [theme=dark] .colab-df-convert:hover {\n",
              "      background-color: #434B5C;\n",
              "      box-shadow: 0px 1px 3px 1px rgba(0, 0, 0, 0.15);\n",
              "      filter: drop-shadow(0px 1px 2px rgba(0, 0, 0, 0.3));\n",
              "      fill: #FFFFFF;\n",
              "    }\n",
              "  </style>\n",
              "\n",
              "    <script>\n",
              "      const buttonEl =\n",
              "        document.querySelector('#df-23ca9256-a961-4f44-9be1-92ed973ee62c button.colab-df-convert');\n",
              "      buttonEl.style.display =\n",
              "        google.colab.kernel.accessAllowed ? 'block' : 'none';\n",
              "\n",
              "      async function convertToInteractive(key) {\n",
              "        const element = document.querySelector('#df-23ca9256-a961-4f44-9be1-92ed973ee62c');\n",
              "        const dataTable =\n",
              "          await google.colab.kernel.invokeFunction('convertToInteractive',\n",
              "                                                    [key], {});\n",
              "        if (!dataTable) return;\n",
              "\n",
              "        const docLinkHtml = 'Like what you see? Visit the ' +\n",
              "          '<a target=\"_blank\" href=https://colab.research.google.com/notebooks/data_table.ipynb>data table notebook</a>'\n",
              "          + ' to learn more about interactive tables.';\n",
              "        element.innerHTML = '';\n",
              "        dataTable['output_type'] = 'display_data';\n",
              "        await google.colab.output.renderOutput(dataTable, element);\n",
              "        const docLink = document.createElement('div');\n",
              "        docLink.innerHTML = docLinkHtml;\n",
              "        element.appendChild(docLink);\n",
              "      }\n",
              "    </script>\n",
              "  </div>\n",
              "\n",
              "\n",
              "<div id=\"df-7b8c964c-f8d0-48ac-9a53-cab7bf330d63\">\n",
              "  <button class=\"colab-df-quickchart\" onclick=\"quickchart('df-7b8c964c-f8d0-48ac-9a53-cab7bf330d63')\"\n",
              "            title=\"Suggest charts\"\n",
              "            style=\"display:none;\">\n",
              "\n",
              "<svg xmlns=\"http://www.w3.org/2000/svg\" height=\"24px\"viewBox=\"0 0 24 24\"\n",
              "     width=\"24px\">\n",
              "    <g>\n",
              "        <path d=\"M19 3H5c-1.1 0-2 .9-2 2v14c0 1.1.9 2 2 2h14c1.1 0 2-.9 2-2V5c0-1.1-.9-2-2-2zM9 17H7v-7h2v7zm4 0h-2V7h2v10zm4 0h-2v-4h2v4z\"/>\n",
              "    </g>\n",
              "</svg>\n",
              "  </button>\n",
              "\n",
              "<style>\n",
              "  .colab-df-quickchart {\n",
              "      --bg-color: #E8F0FE;\n",
              "      --fill-color: #1967D2;\n",
              "      --hover-bg-color: #E2EBFA;\n",
              "      --hover-fill-color: #174EA6;\n",
              "      --disabled-fill-color: #AAA;\n",
              "      --disabled-bg-color: #DDD;\n",
              "  }\n",
              "\n",
              "  [theme=dark] .colab-df-quickchart {\n",
              "      --bg-color: #3B4455;\n",
              "      --fill-color: #D2E3FC;\n",
              "      --hover-bg-color: #434B5C;\n",
              "      --hover-fill-color: #FFFFFF;\n",
              "      --disabled-bg-color: #3B4455;\n",
              "      --disabled-fill-color: #666;\n",
              "  }\n",
              "\n",
              "  .colab-df-quickchart {\n",
              "    background-color: var(--bg-color);\n",
              "    border: none;\n",
              "    border-radius: 50%;\n",
              "    cursor: pointer;\n",
              "    display: none;\n",
              "    fill: var(--fill-color);\n",
              "    height: 32px;\n",
              "    padding: 0;\n",
              "    width: 32px;\n",
              "  }\n",
              "\n",
              "  .colab-df-quickchart:hover {\n",
              "    background-color: var(--hover-bg-color);\n",
              "    box-shadow: 0 1px 2px rgba(60, 64, 67, 0.3), 0 1px 3px 1px rgba(60, 64, 67, 0.15);\n",
              "    fill: var(--button-hover-fill-color);\n",
              "  }\n",
              "\n",
              "  .colab-df-quickchart-complete:disabled,\n",
              "  .colab-df-quickchart-complete:disabled:hover {\n",
              "    background-color: var(--disabled-bg-color);\n",
              "    fill: var(--disabled-fill-color);\n",
              "    box-shadow: none;\n",
              "  }\n",
              "\n",
              "  .colab-df-spinner {\n",
              "    border: 2px solid var(--fill-color);\n",
              "    border-color: transparent;\n",
              "    border-bottom-color: var(--fill-color);\n",
              "    animation:\n",
              "      spin 1s steps(1) infinite;\n",
              "  }\n",
              "\n",
              "  @keyframes spin {\n",
              "    0% {\n",
              "      border-color: transparent;\n",
              "      border-bottom-color: var(--fill-color);\n",
              "      border-left-color: var(--fill-color);\n",
              "    }\n",
              "    20% {\n",
              "      border-color: transparent;\n",
              "      border-left-color: var(--fill-color);\n",
              "      border-top-color: var(--fill-color);\n",
              "    }\n",
              "    30% {\n",
              "      border-color: transparent;\n",
              "      border-left-color: var(--fill-color);\n",
              "      border-top-color: var(--fill-color);\n",
              "      border-right-color: var(--fill-color);\n",
              "    }\n",
              "    40% {\n",
              "      border-color: transparent;\n",
              "      border-right-color: var(--fill-color);\n",
              "      border-top-color: var(--fill-color);\n",
              "    }\n",
              "    60% {\n",
              "      border-color: transparent;\n",
              "      border-right-color: var(--fill-color);\n",
              "    }\n",
              "    80% {\n",
              "      border-color: transparent;\n",
              "      border-right-color: var(--fill-color);\n",
              "      border-bottom-color: var(--fill-color);\n",
              "    }\n",
              "    90% {\n",
              "      border-color: transparent;\n",
              "      border-bottom-color: var(--fill-color);\n",
              "    }\n",
              "  }\n",
              "</style>\n",
              "\n",
              "  <script>\n",
              "    async function quickchart(key) {\n",
              "      const quickchartButtonEl =\n",
              "        document.querySelector('#' + key + ' button');\n",
              "      quickchartButtonEl.disabled = true;  // To prevent multiple clicks.\n",
              "      quickchartButtonEl.classList.add('colab-df-spinner');\n",
              "      try {\n",
              "        const charts = await google.colab.kernel.invokeFunction(\n",
              "            'suggestCharts', [key], {});\n",
              "      } catch (error) {\n",
              "        console.error('Error during call to suggestCharts:', error);\n",
              "      }\n",
              "      quickchartButtonEl.classList.remove('colab-df-spinner');\n",
              "      quickchartButtonEl.classList.add('colab-df-quickchart-complete');\n",
              "    }\n",
              "    (() => {\n",
              "      let quickchartButtonEl =\n",
              "        document.querySelector('#df-7b8c964c-f8d0-48ac-9a53-cab7bf330d63 button');\n",
              "      quickchartButtonEl.style.display =\n",
              "        google.colab.kernel.accessAllowed ? 'block' : 'none';\n",
              "    })();\n",
              "  </script>\n",
              "</div>\n",
              "    </div>\n",
              "  </div>\n"
            ]
          },
          "metadata": {},
          "execution_count": 3
        }
      ],
      "source": [
        "df.head()"
      ]
    },
    {
      "cell_type": "markdown",
      "id": "f3af9e86",
      "metadata": {
        "papermill": {
          "duration": 0.032204,
          "end_time": "2022-04-14T11:57:24.276939",
          "exception": false,
          "start_time": "2022-04-14T11:57:24.244735",
          "status": "completed"
        },
        "tags": [],
        "id": "f3af9e86"
      },
      "source": [
        "# EDA\n"
      ]
    },
    {
      "cell_type": "code",
      "execution_count": 4,
      "id": "6a3d58c5",
      "metadata": {
        "execution": {
          "iopub.execute_input": "2022-04-14T11:57:24.344214Z",
          "iopub.status.busy": "2022-04-14T11:57:24.343827Z",
          "iopub.status.idle": "2022-04-14T11:57:24.357012Z",
          "shell.execute_reply": "2022-04-14T11:57:24.355589Z"
        },
        "papermill": {
          "duration": 0.049534,
          "end_time": "2022-04-14T11:57:24.359331",
          "exception": false,
          "start_time": "2022-04-14T11:57:24.309797",
          "status": "completed"
        },
        "tags": [],
        "colab": {
          "base_uri": "https://localhost:8080/"
        },
        "id": "6a3d58c5",
        "outputId": "4e502918-8f1b-41d2-eb7e-1879198f7113"
      },
      "outputs": [
        {
          "output_type": "stream",
          "name": "stdout",
          "text": [
            "Rows: 150\n",
            "Columns: 5\n",
            "\n",
            "Features\n",
            "\n",
            "['sepal_length', 'sepal_width', 'petal_length', 'petal_width', 'species']\n",
            "\n",
            " Unique Values\n",
            "\n",
            "sepal_length    35\n",
            "sepal_width     23\n",
            "petal_length    43\n",
            "petal_width     22\n",
            "species          3\n",
            "dtype: int64\n"
          ]
        }
      ],
      "source": [
        "print('Rows:',df.shape[0])\n",
        "print('Columns:',df.shape[1])\n",
        "print()\n",
        "\n",
        "print('Features')\n",
        "print()\n",
        "print( df.columns.tolist())\n",
        "print()\n",
        "\n",
        "print(' Unique Values')\n",
        "print()\n",
        "print( df.nunique())"
      ]
    },
    {
      "cell_type": "code",
      "execution_count": 5,
      "id": "407c27a8",
      "metadata": {
        "execution": {
          "iopub.execute_input": "2022-04-14T11:57:24.425052Z",
          "iopub.status.busy": "2022-04-14T11:57:24.424721Z",
          "iopub.status.idle": "2022-04-14T11:57:24.434073Z",
          "shell.execute_reply": "2022-04-14T11:57:24.433296Z"
        },
        "papermill": {
          "duration": 0.044298,
          "end_time": "2022-04-14T11:57:24.435746",
          "exception": false,
          "start_time": "2022-04-14T11:57:24.391448",
          "status": "completed"
        },
        "tags": [],
        "colab": {
          "base_uri": "https://localhost:8080/"
        },
        "id": "407c27a8",
        "outputId": "e5f7e445-2704-42a4-c5fb-c8cc0715e164"
      },
      "outputs": [
        {
          "output_type": "execute_result",
          "data": {
            "text/plain": [
              "array(['setosa', 'versicolor', 'virginica'], dtype=object)"
            ]
          },
          "metadata": {},
          "execution_count": 5
        }
      ],
      "source": [
        "df.species.unique()\n"
      ]
    },
    {
      "cell_type": "code",
      "execution_count": 6,
      "id": "a170d2e0",
      "metadata": {
        "execution": {
          "iopub.execute_input": "2022-04-14T11:57:24.567554Z",
          "iopub.status.busy": "2022-04-14T11:57:24.567217Z",
          "iopub.status.idle": "2022-04-14T11:57:24.584575Z",
          "shell.execute_reply": "2022-04-14T11:57:24.583385Z"
        },
        "papermill": {
          "duration": 0.053613,
          "end_time": "2022-04-14T11:57:24.586958",
          "exception": false,
          "start_time": "2022-04-14T11:57:24.533345",
          "status": "completed"
        },
        "tags": [],
        "colab": {
          "base_uri": "https://localhost:8080/"
        },
        "id": "a170d2e0",
        "outputId": "3afc276a-cad2-4cf6-ac0d-76dff725b507"
      },
      "outputs": [
        {
          "output_type": "stream",
          "name": "stdout",
          "text": [
            "<class 'pandas.core.frame.DataFrame'>\n",
            "RangeIndex: 150 entries, 0 to 149\n",
            "Data columns (total 5 columns):\n",
            " #   Column        Non-Null Count  Dtype  \n",
            "---  ------        --------------  -----  \n",
            " 0   sepal_length  150 non-null    float64\n",
            " 1   sepal_width   150 non-null    float64\n",
            " 2   petal_length  150 non-null    float64\n",
            " 3   petal_width   150 non-null    float64\n",
            " 4   species       150 non-null    object \n",
            "dtypes: float64(4), object(1)\n",
            "memory usage: 6.0+ KB\n"
          ]
        }
      ],
      "source": [
        "df.info()"
      ]
    },
    {
      "cell_type": "code",
      "execution_count": 7,
      "id": "e0cd664e",
      "metadata": {
        "execution": {
          "iopub.execute_input": "2022-04-14T11:57:24.719695Z",
          "iopub.status.busy": "2022-04-14T11:57:24.719231Z",
          "iopub.status.idle": "2022-04-14T11:57:24.726827Z",
          "shell.execute_reply": "2022-04-14T11:57:24.726311Z"
        },
        "papermill": {
          "duration": 0.043296,
          "end_time": "2022-04-14T11:57:24.728588",
          "exception": false,
          "start_time": "2022-04-14T11:57:24.685292",
          "status": "completed"
        },
        "tags": [],
        "id": "e0cd664e"
      },
      "outputs": [],
      "source": [
        "df_setosa = df.loc[df['species']=='setosa']\n",
        "df_virginica = df.loc[df['species'] == 'virginica']\n",
        "df_versicolor = df.loc[df['species'] == 'versicolor']"
      ]
    },
    {
      "cell_type": "code",
      "execution_count": 8,
      "id": "76cdb4e0",
      "metadata": {
        "execution": {
          "iopub.execute_input": "2022-04-14T11:57:24.927658Z",
          "iopub.status.busy": "2022-04-14T11:57:24.927391Z",
          "iopub.status.idle": "2022-04-14T11:57:25.085598Z",
          "shell.execute_reply": "2022-04-14T11:57:25.085002Z"
        },
        "papermill": {
          "duration": 0.194394,
          "end_time": "2022-04-14T11:57:25.087499",
          "exception": false,
          "start_time": "2022-04-14T11:57:24.893105",
          "status": "completed"
        },
        "tags": [],
        "colab": {
          "base_uri": "https://localhost:8080/",
          "height": 536
        },
        "id": "76cdb4e0",
        "outputId": "b2c749bd-8807-45ec-ff48-e23c7fca4121"
      },
      "outputs": [
        {
          "output_type": "execute_result",
          "data": {
            "text/plain": [
              "(<Axes: xlabel='species', ylabel='Count'>,\n",
              " setosa        50\n",
              " versicolor    50\n",
              " virginica     50\n",
              " Name: species, dtype: int64)"
            ]
          },
          "metadata": {},
          "execution_count": 8
        },
        {
          "output_type": "display_data",
          "data": {
            "text/plain": [
              "<Figure size 640x480 with 1 Axes>"
            ],
            "image/png": "[encoded data removed]"
          },
          "metadata": {}
        }
      ],
      "source": [
        "sns.histplot(x='species',data=df), df['species'].value_counts()"
      ]
    },
    {
      "cell_type": "markdown",
      "id": "bb812656",
      "metadata": {
        "papermill": {
          "duration": 0.033973,
          "end_time": "2022-04-14T11:57:25.349683",
          "exception": false,
          "start_time": "2022-04-14T11:57:25.315710",
          "status": "completed"
        },
        "tags": [],
        "id": "bb812656"
      },
      "source": [
        "## Bivariate Analysis"
      ]
    },
    {
      "cell_type": "code",
      "execution_count": 10,
      "id": "379bcb33",
      "metadata": {
        "execution": {
          "iopub.execute_input": "2022-04-14T11:57:25.420885Z",
          "iopub.status.busy": "2022-04-14T11:57:25.420643Z",
          "iopub.status.idle": "2022-04-14T11:57:25.774507Z",
          "shell.execute_reply": "2022-04-14T11:57:25.773820Z"
        },
        "papermill": {
          "duration": 0.391752,
          "end_time": "2022-04-14T11:57:25.776164",
          "exception": false,
          "start_time": "2022-04-14T11:57:25.384412",
          "status": "completed"
        },
        "tags": [],
        "colab": {
          "base_uri": "https://localhost:8080/",
          "height": 607
        },
        "id": "379bcb33",
        "outputId": "1c63b4d8-f775-4aa5-f1c3-9ecc72c6ee50"
      },
      "outputs": [
        {
          "output_type": "display_data",
          "data": {
            "text/plain": [
              "<Figure size 717.75x600 with 1 Axes>"
            ],
            "image/png": "[encoded data removed]"
          },
          "metadata": {}
        }
      ],
      "source": [
        "sns.FacetGrid(hue='species', data=df, height=6).map(plt.scatter, 'petal_length', 'petal_width').add_legend()\n",
        "plt.show()"
      ]
    },
    {
      "cell_type": "markdown",
      "id": "b5956999",
      "metadata": {
        "papermill": {
          "duration": 0.081205,
          "end_time": "2022-04-14T11:57:31.801792",
          "exception": false,
          "start_time": "2022-04-14T11:57:31.720587",
          "status": "completed"
        },
        "tags": [],
        "id": "b5956999"
      },
      "source": [
        "# **Pembuatan Model**"
      ]
    },
    {
      "cell_type": "code",
      "execution_count": 13,
      "id": "6bf7fa9e",
      "metadata": {
        "execution": {
          "iopub.execute_input": "2022-04-14T11:57:32.235296Z",
          "iopub.status.busy": "2022-04-14T11:57:32.234599Z",
          "iopub.status.idle": "2022-04-14T11:57:32.460645Z",
          "shell.execute_reply": "2022-04-14T11:57:32.459583Z"
        },
        "papermill": {
          "duration": 0.288181,
          "end_time": "2022-04-14T11:57:32.462550",
          "exception": false,
          "start_time": "2022-04-14T11:57:32.174369",
          "status": "completed"
        },
        "tags": [],
        "colab": {
          "base_uri": "https://localhost:8080/",
          "height": 688
        },
        "id": "6bf7fa9e",
        "outputId": "6c6d9f84-59f6-4850-948b-d45c70ab83dd"
      },
      "outputs": [
        {
          "output_type": "display_data",
          "data": {
            "text/plain": [
              "<Figure size 1000x800 with 2 Axes>"
            ],
            "image/png": "[encoded data removed]"
          },
          "metadata": {}
        }
      ],
      "source": [
        "plt.figure(figsize=(10,8))\n",
        "sns.heatmap(df.corr(), annot=True, cmap='cubehelix_r')\n",
        "plt.show()"
      ]
    },
    {
      "cell_type": "markdown",
      "id": "555ccf4e",
      "metadata": {
        "papermill": {
          "duration": 0.060412,
          "end_time": "2022-04-14T11:57:32.582693",
          "exception": false,
          "start_time": "2022-04-14T11:57:32.522281",
          "status": "completed"
        },
        "tags": [],
        "id": "555ccf4e"
      },
      "source": [
        "- Sepal_width is not correlating with any of the Features, whereas Petal_length and Petal_width is highly correlating with all of the features"
      ]
    },
    {
      "cell_type": "markdown",
      "id": "754171ad",
      "metadata": {
        "papermill": {
          "duration": 0.06107,
          "end_time": "2022-04-14T11:57:32.704214",
          "exception": false,
          "start_time": "2022-04-14T11:57:32.643144",
          "status": "completed"
        },
        "tags": [],
        "id": "754171ad"
      },
      "source": [
        "### Performing Test,Train Split"
      ]
    },
    {
      "cell_type": "code",
      "execution_count": 14,
      "id": "6c991d24",
      "metadata": {
        "execution": {
          "iopub.execute_input": "2022-04-14T11:57:32.827882Z",
          "iopub.status.busy": "2022-04-14T11:57:32.827311Z",
          "iopub.status.idle": "2022-04-14T11:57:32.833458Z",
          "shell.execute_reply": "2022-04-14T11:57:32.832980Z"
        },
        "papermill": {
          "duration": 0.069503,
          "end_time": "2022-04-14T11:57:32.835008",
          "exception": false,
          "start_time": "2022-04-14T11:57:32.765505",
          "status": "completed"
        },
        "tags": [],
        "colab": {
          "base_uri": "https://localhost:8080/"
        },
        "id": "6c991d24",
        "outputId": "e0f250b7-23e6-4b5e-90a2-a4c243faa6b2"
      },
      "outputs": [
        {
          "output_type": "execute_result",
          "data": {
            "text/plain": [
              "((150, 4), (150,))"
            ]
          },
          "metadata": {},
          "execution_count": 14
        }
      ],
      "source": [
        "X=df.drop(labels='species', axis=1)\n",
        "y=df.species\n",
        "\n",
        "X.shape, y.shape"
      ]
    },
    {
      "cell_type": "code",
      "execution_count": 15,
      "id": "53e41c05",
      "metadata": {
        "execution": {
          "iopub.execute_input": "2022-04-14T11:57:32.958133Z",
          "iopub.status.busy": "2022-04-14T11:57:32.957783Z",
          "iopub.status.idle": "2022-04-14T11:57:33.158815Z",
          "shell.execute_reply": "2022-04-14T11:57:33.158033Z"
        },
        "papermill": {
          "duration": 0.264521,
          "end_time": "2022-04-14T11:57:33.160959",
          "exception": false,
          "start_time": "2022-04-14T11:57:32.896438",
          "status": "completed"
        },
        "tags": [],
        "id": "53e41c05"
      },
      "outputs": [],
      "source": [
        "from sklearn.model_selection import train_test_split\n",
        "\n",
        "X_train,X_test, y_train, y_test= train_test_split(X,y,test_size=0.2, random_state=42)"
      ]
    },
    {
      "cell_type": "markdown",
      "id": "80861af1",
      "metadata": {
        "papermill": {
          "duration": 0.060091,
          "end_time": "2022-04-14T11:57:33.281464",
          "exception": false,
          "start_time": "2022-04-14T11:57:33.221373",
          "status": "completed"
        },
        "tags": [],
        "id": "80861af1"
      },
      "source": [
        "### Makikng a PipeLine for Standard Scaler"
      ]
    },
    {
      "cell_type": "code",
      "execution_count": 16,
      "id": "a0115fd1",
      "metadata": {
        "execution": {
          "iopub.execute_input": "2022-04-14T11:57:33.406313Z",
          "iopub.status.busy": "2022-04-14T11:57:33.405982Z",
          "iopub.status.idle": "2022-04-14T11:57:33.416767Z",
          "shell.execute_reply": "2022-04-14T11:57:33.416071Z"
        },
        "papermill": {
          "duration": 0.075603,
          "end_time": "2022-04-14T11:57:33.418868",
          "exception": false,
          "start_time": "2022-04-14T11:57:33.343265",
          "status": "completed"
        },
        "tags": [],
        "id": "a0115fd1"
      },
      "outputs": [],
      "source": [
        "from sklearn.pipeline import Pipeline\n",
        "from sklearn.preprocessing import StandardScaler\n",
        "\n",
        "pipeline=Pipeline({\n",
        "    (\"scaler\", StandardScaler())\n",
        "})\n",
        "\n",
        "X_train=pipeline.fit_transform(X_train)\n"
      ]
    },
    {
      "cell_type": "markdown",
      "id": "083785ba",
      "metadata": {
        "papermill": {
          "duration": 0.060222,
          "end_time": "2022-04-14T11:57:33.542084",
          "exception": false,
          "start_time": "2022-04-14T11:57:33.481862",
          "status": "completed"
        },
        "tags": [],
        "id": "083785ba"
      },
      "source": [
        "### Model Training"
      ]
    },
    {
      "cell_type": "code",
      "execution_count": 17,
      "id": "a2b27f08",
      "metadata": {
        "execution": {
          "iopub.execute_input": "2022-04-14T11:57:33.665201Z",
          "iopub.status.busy": "2022-04-14T11:57:33.664865Z",
          "iopub.status.idle": "2022-04-14T11:57:33.745575Z",
          "shell.execute_reply": "2022-04-14T11:57:33.744778Z"
        },
        "papermill": {
          "duration": 0.144761,
          "end_time": "2022-04-14T11:57:33.747645",
          "exception": false,
          "start_time": "2022-04-14T11:57:33.602884",
          "status": "completed"
        },
        "tags": [],
        "colab": {
          "base_uri": "https://localhost:8080/",
          "height": 75
        },
        "id": "a2b27f08",
        "outputId": "164dc512-63cf-4389-887b-c9e752cd97e5"
      },
      "outputs": [
        {
          "output_type": "execute_result",
          "data": {
            "text/plain": [
              "SVC(C=0.25, kernel='linear')"
            ],
            "text/html": [
              "<style>#sk-container-id-1 {color: black;background-color: white;}#sk-container-id-1 pre{padding: 0;}#sk-container-id-1 div.sk-toggleable {background-color: white;}#sk-container-id-1 label.sk-toggleable__label {cursor: pointer;display: block;width: 100%;margin-bottom: 0;padding: 0.3em;box-sizing: border-box;text-align: center;}#sk-container-id-1 label.sk-toggleable__label-arrow:before {content: \"▸\";float: left;margin-right: 0.25em;color: #696969;}#sk-container-id-1 label.sk-toggleable__label-arrow:hover:before {color: black;}#sk-container-id-1 div.sk-estimator:hover label.sk-toggleable__label-arrow:before {color: black;}#sk-container-id-1 div.sk-toggleable__content {max-height: 0;max-width: 0;overflow: hidden;text-align: left;background-color: #f0f8ff;}#sk-container-id-1 div.sk-toggleable__content pre {margin: 0.2em;color: black;border-radius: 0.25em;background-color: #f0f8ff;}#sk-container-id-1 input.sk-toggleable__control:checked~div.sk-toggleable__content {max-height: 200px;max-width: 100%;overflow: auto;}#sk-container-id-1 input.sk-toggleable__control:checked~label.sk-toggleable__label-arrow:before {content: \"▾\";}#sk-container-id-1 div.sk-estimator input.sk-toggleable__control:checked~label.sk-toggleable__label {background-color: #d4ebff;}#sk-container-id-1 div.sk-label input.sk-toggleable__control:checked~label.sk-toggleable__label {background-color: #d4ebff;}#sk-container-id-1 input.sk-hidden--visually {border: 0;clip: rect(1px 1px 1px 1px);clip: rect(1px, 1px, 1px, 1px);height: 1px;margin: -1px;overflow: hidden;padding: 0;position: absolute;width: 1px;}#sk-container-id-1 div.sk-estimator {font-family: monospace;background-color: #f0f8ff;border: 1px dotted black;border-radius: 0.25em;box-sizing: border-box;margin-bottom: 0.5em;}#sk-container-id-1 div.sk-estimator:hover {background-color: #d4ebff;}#sk-container-id-1 div.sk-parallel-item::after {content: \"\";width: 100%;border-bottom: 1px solid gray;flex-grow: 1;}#sk-container-id-1 div.sk-label:hover label.sk-toggleable__label {background-color: #d4ebff;}#sk-container-id-1 div.sk-serial::before {content: \"\";position: absolute;border-left: 1px solid gray;box-sizing: border-box;top: 0;bottom: 0;left: 50%;z-index: 0;}#sk-container-id-1 div.sk-serial {display: flex;flex-direction: column;align-items: center;background-color: white;padding-right: 0.2em;padding-left: 0.2em;position: relative;}#sk-container-id-1 div.sk-item {position: relative;z-index: 1;}#sk-container-id-1 div.sk-parallel {display: flex;align-items: stretch;justify-content: center;background-color: white;position: relative;}#sk-container-id-1 div.sk-item::before, #sk-container-id-1 div.sk-parallel-item::before {content: \"\";position: absolute;border-left: 1px solid gray;box-sizing: border-box;top: 0;bottom: 0;left: 50%;z-index: -1;}#sk-container-id-1 div.sk-parallel-item {display: flex;flex-direction: column;z-index: 1;position: relative;background-color: white;}#sk-container-id-1 div.sk-parallel-item:first-child::after {align-self: flex-end;width: 50%;}#sk-container-id-1 div.sk-parallel-item:last-child::after {align-self: flex-start;width: 50%;}#sk-container-id-1 div.sk-parallel-item:only-child::after {width: 0;}#sk-container-id-1 div.sk-dashed-wrapped {border: 1px dashed gray;margin: 0 0.4em 0.5em 0.4em;box-sizing: border-box;padding-bottom: 0.4em;background-color: white;}#sk-container-id-1 div.sk-label label {font-family: monospace;font-weight: bold;display: inline-block;line-height: 1.2em;}#sk-container-id-1 div.sk-label-container {text-align: center;}#sk-container-id-1 div.sk-container {/* jupyter's `normalize.less` sets `[hidden] { display: none; }` but bootstrap.min.css set `[hidden] { display: none !important; }` so we also need the `!important` here to be able to override the default hidden behavior on the sphinx rendered scikit-learn.org. See: https://github.com/scikit-learn/scikit-learn/issues/21755 */display: inline-block !important;position: relative;}#sk-container-id-1 div.sk-text-repr-fallback {display: none;}</style><div id=\"sk-container-id-1\" class=\"sk-top-container\"><div class=\"sk-text-repr-fallback\"><pre>SVC(C=0.25, kernel=&#x27;linear&#x27;)</pre><b>In a Jupyter environment, please rerun this cell to show the HTML representation or trust the notebook. <br />On GitHub, the HTML representation is unable to render, please try loading this page with nbviewer.org.</b></div><div class=\"sk-container\" hidden><div class=\"sk-item\"><div class=\"sk-estimator sk-toggleable\"><input class=\"sk-toggleable__control sk-hidden--visually\" id=\"sk-estimator-id-1\" type=\"checkbox\" checked><label for=\"sk-estimator-id-1\" class=\"sk-toggleable__label sk-toggleable__label-arrow\">SVC</label><div class=\"sk-toggleable__content\"><pre>SVC(C=0.25, kernel=&#x27;linear&#x27;)</pre></div></div></div></div></div>"
            ]
          },
          "metadata": {},
          "execution_count": 17
        }
      ],
      "source": [
        "from sklearn.svm import SVC\n",
        "model_svm = SVC(kernel='linear', C=0.25)\n",
        "model_svm.fit(X_train, y_train)"
      ]
    },
    {
      "cell_type": "markdown",
      "id": "857e5c7f",
      "metadata": {
        "papermill": {
          "duration": 0.060493,
          "end_time": "2022-04-14T11:57:33.871182",
          "exception": false,
          "start_time": "2022-04-14T11:57:33.810689",
          "status": "completed"
        },
        "tags": [],
        "id": "857e5c7f"
      },
      "source": [
        "### Checking the Accuracy"
      ]
    },
    {
      "cell_type": "code",
      "execution_count": 18,
      "id": "f874c5fc",
      "metadata": {
        "execution": {
          "iopub.execute_input": "2022-04-14T11:57:33.994452Z",
          "iopub.status.busy": "2022-04-14T11:57:33.993991Z",
          "iopub.status.idle": "2022-04-14T11:57:34.018274Z",
          "shell.execute_reply": "2022-04-14T11:57:34.017534Z"
        },
        "papermill": {
          "duration": 0.087973,
          "end_time": "2022-04-14T11:57:34.019838",
          "exception": false,
          "start_time": "2022-04-14T11:57:33.931865",
          "status": "completed"
        },
        "tags": [],
        "colab": {
          "base_uri": "https://localhost:8080/"
        },
        "id": "f874c5fc",
        "outputId": "f2edefbf-f7cf-47ec-8892-c65fbedc70bd"
      },
      "outputs": [
        {
          "output_type": "stream",
          "name": "stdout",
          "text": [
            "[0.91666667 1.         1.         1.         0.83333333 0.83333333\n",
            " 1.         1.         1.         0.91666667]\n",
            "\n",
            "Accuracy of Your Model is :- \n",
            "  0.95\n"
          ]
        }
      ],
      "source": [
        "from sklearn.model_selection import cross_val_score\n",
        "\n",
        "cv_scores = cross_val_score(model_svm,X_train,y_train,cv=10)\n",
        "print(cv_scores)\n",
        "print()\n",
        "print(\"Accuracy of Your Model is :- \\n \",cv_scores.mean())"
      ]
    }
  ],
  "metadata": {
    "kernelspec": {
      "display_name": "Python 3",
      "name": "python3"
    },
    "language_info": {
      "codemirror_mode": {
        "name": "ipython",
        "version": 3
      },
      "file_extension": ".py",
      "mimetype": "text/x-python",
      "name": "python",
      "nbconvert_exporter": "python",
      "pygments_lexer": "ipython3",
      "version": "3.7.12"
    },
    "papermill": {
      "default_parameters": {},
      "duration": 23.968319,
      "end_time": "2022-04-14T11:57:38.337248",
      "environment_variables": {},
      "exception": null,
      "input_path": "__notebook__.ipynb",
      "output_path": "__notebook__.ipynb",
      "parameters": {},
      "start_time": "2022-04-14T11:57:14.368929",
      "version": "2.3.4"
    },
    "colab": {
      "provenance": [],
      "gpuType": "T4"
    },
    "accelerator": "GPU"
  },
  "nbformat": 4,
  "nbformat_minor": 5
}